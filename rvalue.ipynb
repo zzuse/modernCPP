{
 "cells": [
  {
   "cell_type": "code",
   "execution_count": 1,
   "metadata": {},
   "outputs": [],
   "source": [
    "#include <stdio.h>"
   ]
  },
  {
   "cell_type": "code",
   "execution_count": 2,
   "metadata": {},
   "outputs": [],
   "source": [
    "class shape {\n",
    "public:\n",
    "    virtual ~shape() {}\n",
    "};"
   ]
  },
  {
   "cell_type": "code",
   "execution_count": 3,
   "metadata": {},
   "outputs": [],
   "source": [
    "class circle : public shape {public:  circle() { puts(\"circle()\"); }  ~circle() { puts(\"~circle()\"); }};"
   ]
  },
  {
   "cell_type": "code",
   "execution_count": 4,
   "metadata": {},
   "outputs": [],
   "source": [
    "class triangle : public shape {public: triangle() { puts(\"triangle()\"); } ~triangle() { puts(\"~triangle()\"); }};"
   ]
  },
  {
   "cell_type": "code",
   "execution_count": 5,
   "metadata": {},
   "outputs": [],
   "source": [
    "class result {public: result() { puts(\"result()\"); } ~result() { puts(\"~result()\"); }};"
   ]
  },
  {
   "cell_type": "code",
   "execution_count": 6,
   "metadata": {},
   "outputs": [],
   "source": [
    "result process_shape(const shape& shape1, const shape& shape2){ puts(\"process_shape()\"); return result();}"
   ]
  },
  {
   "cell_type": "code",
   "execution_count": 7,
   "metadata": {},
   "outputs": [],
   "source": [
    "void haha(){ \n",
    "    puts(\"main()\"); \n",
    "    result&& r = std::move(process_shape(circle(), triangle())); \n",
    "    puts(\"something else\");\n",
    "}"
   ]
  },
  {
   "cell_type": "code",
   "execution_count": 9,
   "metadata": {},
   "outputs": [
    {
     "name": "stderr",
     "output_type": "stream",
     "text": [
      "\u001b[1minput_line_15:5:19: \u001b[0m\u001b[0;1;31merror: \u001b[0m\u001b[1mfunction definition is not allowed here\u001b[0m\n",
      " void foo(shape&&){\n",
      "\u001b[0;1;32m                  ^\n",
      "\u001b[0m\u001b[1minput_line_15:8:25: \u001b[0m\u001b[0;1;31merror: \u001b[0m\u001b[1mfunction definition is not allowed here\u001b[0m\n",
      "void bar(const shape& s){\n",
      "\u001b[0;1;32m                        ^\n",
      "\u001b[0m\u001b[1minput_line_15:12:20: \u001b[0m\u001b[0;1;31merror: \u001b[0m\u001b[1mfunction definition is not allowed here\u001b[0m\n",
      "void bar(shape&& s){  \n",
      "\u001b[0;1;32m                   ^\n",
      "\u001b[0m\u001b[1minput_line_15:16:11: \u001b[0m\u001b[0;1;31merror: \u001b[0m\u001b[1mfunction definition is not allowed here\u001b[0m\n",
      "int main(){  \n",
      "\u001b[0;1;32m          ^\n",
      "\u001b[0m"
     ]
    },
    {
     "ename": "Interpreter Error",
     "evalue": "",
     "output_type": "error",
     "traceback": [
      "Interpreter Error: "
     ]
    }
   ],
   "source": [
    "void foo(const shape&){\n",
    "    puts(\"foo(const shape&)\");\n",
    "}\n",
    "void foo(shape&&){\n",
    "    puts(\"foo(shape&&)\");\n",
    "}\n",
    "void bar(const shape& s){\n",
    "    puts(\"bar(const shape&)\");  \n",
    "    foo(s);\n",
    "}\n",
    "void bar(shape&& s){  \n",
    "    puts(\"bar(shape&&)\");  \n",
    "    foo(s);\n",
    "}\n",
    "int main(){  \n",
    "    bar(circle());\n",
    "}"
   ]
  },
  {
   "cell_type": "code",
   "execution_count": 8,
   "metadata": {},
   "outputs": [],
   "source": [
    "haha()"
   ]
  },
  {
   "cell_type": "code",
   "execution_count": null,
   "metadata": {},
   "outputs": [],
   "source": []
  }
 ],
 "metadata": {
  "kernelspec": {
   "display_name": "C++17",
   "language": "C++17",
   "name": "xcpp17"
  },
  "language_info": {
   "codemirror_mode": "text/x-c++src",
   "file_extension": ".cpp",
   "mimetype": "text/x-c++src",
   "name": "c++",
   "version": "-std=c++17"
  }
 },
 "nbformat": 4,
 "nbformat_minor": 2
}
