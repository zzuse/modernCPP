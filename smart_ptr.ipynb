{
 "cells": [
  {
   "cell_type": "code",
   "execution_count": 1,
   "metadata": {},
   "outputs": [],
   "source": [
    "#include <stdio.h>\n",
    "#include <iostream>\n",
    "#include <utility>"
   ]
  },
  {
   "cell_type": "code",
   "execution_count": 2,
   "metadata": {},
   "outputs": [],
   "source": [
    "class shared_count {\n",
    "public: \n",
    "   shared_count() : count_(1) {} \n",
    "   void add_count() { ++count_; } \n",
    "   long reduce_count() { return --count_; } \n",
    "   long get_count() const { return count_; }\n",
    "private: long count_;\n",
    "};"
   ]
  },
  {
   "cell_type": "code",
   "execution_count": 3,
   "metadata": {},
   "outputs": [],
   "source": [
    "template <typename T>\n",
    "class smart_ptr {\n",
    "\n",
    "    public: \n",
    "        template <typename U>\n",
    "        friend class smart_ptr;\n",
    "        explicit smart_ptr(T* ptr = nullptr) : ptr_(ptr) {\n",
    "            if (ptr) { shared_count_ = new shared_count(); }\n",
    "        }\n",
    "        ~smart_ptr() {\n",
    "            if (ptr_ && !shared_count_ ->reduce_count()) { delete ptr_; delete shared_count_; } \n",
    "        }\n",
    "        template <typename U>\n",
    "        smart_ptr(const smart_ptr<U>& other) noexcept\n",
    "         { \n",
    "            ptr_ = other.ptr_;\n",
    "            if (ptr_) { other.shared_count_->add_count();\n",
    "            shared_count_ = other.shared_count_; \n",
    "         }}\n",
    "        template <typename U>\n",
    "        smart_ptr(smart_ptr<U>&& other) noexcept\n",
    "         { \n",
    "            ptr_ = other.ptr_; \n",
    "            if (ptr_) { shared_count_ = other.shared_count_; \n",
    "            other.ptr_ = nullptr; \n",
    "         }}\n",
    "        smart_ptr& operator=(smart_ptr rhs) noexcept \n",
    "        {\n",
    "            rhs.swap(*this); \n",
    "            return *this; \n",
    "        }\n",
    "        template <typename U>\n",
    "        smart_ptr(const smart_ptr<U>& other, T* ptr) noexcept\n",
    "        { \n",
    "            ptr_ = ptr; \n",
    "            if (ptr_) { \n",
    "                other.shared_count_ ->add_count(); \n",
    "                shared_count_ = other.shared_count_; \n",
    "            } \n",
    "        }\n",
    "\n",
    "\n",
    "         T* get() const { return ptr_; }\n",
    "         T& operator*() const { return *ptr_; } \n",
    "         T* operator->() const { return ptr_; } \n",
    "         operator bool() const { return ptr_; }\n",
    "         long use_count() const \n",
    "         { \n",
    "             if (ptr_) { return shared_count_ ->get_count(); } \n",
    "             else { return 0; }\n",
    "         }\n",
    "         void swap(smart_ptr& rhs) { \n",
    "             using std::swap; \n",
    "             swap(ptr_, rhs.ptr_);\n",
    "             swap(shared_count_, rhs.shared_count_); \n",
    "         }\n",
    "    private: \n",
    "         T* ptr_;\n",
    "         shared_count* shared_count_;\n",
    "    };\n",
    "    template <typename T>\n",
    "    void swap(smart_ptr<T>& lhs, smart_ptr<T>& rhs) noexcept\n",
    "    {\n",
    "        lhs.swap(rhs);\n",
    "    }\n",
    "    template <typename T, typename U>\n",
    "    smart_ptr<T> static_pointer_cast(const smart_ptr<U>& other) noexcept{\n",
    "        T* ptr = static_cast<T*>(other.get());\n",
    "        return smart_ptr<T>(other, ptr);\n",
    "    }\n",
    "    template <typename T, typename U>\n",
    "    smart_ptr<T> reinterpret_pointer_cast(const smart_ptr<U>& other) noexcept{\n",
    "        T* ptr = reinterpret_cast<T*>(other.get());\n",
    "        return smart_ptr<T>(other, ptr);\n",
    "    }\n",
    "    template <typename T, typename U>\n",
    "    smart_ptr<T> const_pointer_cast(const smart_ptr<U>& other) noexcept{\n",
    "        T* ptr = const_cast<T*>(other.get());\n",
    "        return smart_ptr<T>(other, ptr);\n",
    "    }\n",
    "    template <typename T, typename U>\n",
    "    smart_ptr<T> dynamic_pointer_cast(const smart_ptr<U>& other){\n",
    "        T* ptr = dynamic_cast<T*>(other.get());\n",
    "        return smart_ptr<T>(other, ptr);\n",
    "    }"
   ]
  },
  {
   "cell_type": "code",
   "execution_count": 4,
   "metadata": {},
   "outputs": [],
   "source": [
    "class shape {\n",
    "public: virtual ~shape() {}\n",
    "};\n",
    "class circle : public shape {\n",
    "public: ~circle() { puts(\"~circle()\"); }\n",
    "};"
   ]
  },
  {
   "cell_type": "code",
   "execution_count": 5,
   "metadata": {},
   "outputs": [],
   "source": [
    "smart_ptr<circle> ptr1(new circle()); \n",
    "printf(\"use count of ptr1 is %ld\\n\", ptr1.use_count()); \n",
    "smart_ptr<shape> ptr2; \n",
    "printf(\"use count of ptr2 was %ld\\n\", ptr2.use_count()); \n",
    "ptr2 = ptr1; \n",
    "printf(\"use count of ptr2 is now %ld\\n\", ptr2.use_count()); \n",
    "if (ptr1) { puts(\"ptr1 is not empty\"); }"
   ]
  },
  {
   "cell_type": "code",
   "execution_count": 6,
   "metadata": {},
   "outputs": [],
   "source": [
    "smart_ptr<circle> ptr3 = dynamic_pointer_cast<circle>(ptr2);\n",
    "printf(\"use count of ptr3 is %ld\\n\", ptr3.use_count());"
   ]
  },
  {
   "cell_type": "code",
   "execution_count": null,
   "metadata": {},
   "outputs": [],
   "source": []
  }
 ],
 "metadata": {
  "kernelspec": {
   "display_name": "C++17",
   "language": "C++17",
   "name": "xcpp17"
  },
  "language_info": {
   "codemirror_mode": "text/x-c++src",
   "file_extension": ".cpp",
   "mimetype": "text/x-c++src",
   "name": "c++",
   "version": "-std=c++17"
  }
 },
 "nbformat": 4,
 "nbformat_minor": 2
}
