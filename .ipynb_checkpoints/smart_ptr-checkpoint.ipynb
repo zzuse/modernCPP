{
 "cells": [
  {
   "cell_type": "code",
   "execution_count": 1,
   "metadata": {},
   "outputs": [],
   "source": [
    "#include <stdio.h>"
   ]
  },
  {
   "cell_type": "code",
   "execution_count": 2,
   "metadata": {},
   "outputs": [],
   "source": [
    "class shared_count {\n",
    "public: \n",
    "   shared_count() : count_(1) {} \n",
    "   void add_count() { ++count_; } \n",
    "   long reduce_count() { return --count_; } \n",
    "   long get_count() const { return count_; }\n",
    "private: long count_;\n",
    "};"
   ]
  },
  {
   "cell_type": "code",
   "execution_count": 3,
   "metadata": {},
   "outputs": [],
   "source": [
    "template <typename T>\n",
    "class smart_ptr {\n",
    "    public: \n",
    "        explicit smart_ptr(T* ptr = nullptr) : ptr_(ptr) { if (ptr) { shared_count_ = new shared_count(); }}\n",
    "                 smart_ptr(const smart_ptr<T>& other) noexcept\n",
    "                     { ptr_ = other.ptr_;\n",
    "                       if (ptr_) { other.shared_count_->add_count();\n",
    "                       shared_count_ = other.shared_count_; \n",
    "                     }}\n",
    "                 smart_ptr(smart_ptr<T>&& other) noexcept\n",
    "                     { ptr_ = other.ptr_; \n",
    "                        if (ptr_) { shared_count_ = other.shared_count_; \n",
    "                        other.ptr_ = nullptr; \n",
    "                     }}\n",
    "                 ~smart_ptr() { if (ptr_ && !shared_count_ ->reduce_count()) { delete ptr_; delete shared_count_; } } \n",
    "                 T* get() const { return ptr_; }\n",
    "    T& operator*() const { return *ptr_; } \n",
    "    T* operator->() const { return ptr_; } \n",
    "    operator bool() const { return ptr_; }\n",
    "    long use_count() const \n",
    "{ \n",
    "if (ptr_) { return shared_count_ ->get_count(); } \n",
    "else { return 0; }\n",
    " }\n",
    "    private: \n",
    "         T* ptr_;\n",
    "         shared_count* shared_count_;\n",
    "    };"
   ]
  },
  {
   "cell_type": "code",
   "execution_count": 4,
   "metadata": {},
   "outputs": [],
   "source": [
    "class shape {\n",
    "public: virtual ~shape() {}\n",
    "};\n",
    "class circle : public shape {\n",
    "public: ~circle() { puts(\"~circle()\"); }\n",
    "};"
   ]
  },
  {
   "cell_type": "code",
   "execution_count": 5,
   "metadata": {},
   "outputs": [
    {
     "name": "stderr",
     "output_type": "stream",
     "text": [
      "\u001b[1minput_line_11:3:43: \u001b[0m\u001b[0;1;31merror: \u001b[0m\u001b[1mno member named 'use_count' in 'smart_ptr<circle>'\u001b[0m\n",
      "printf(\"use count of ptr1 is %ld\\n\", ptr1.use_count()); \n",
      "\u001b[0;1;32m                                     ~~~~ ^\n",
      "\u001b[0m\u001b[1minput_line_11:4:1: \u001b[0m\u001b[0;1;31merror: \u001b[0m\u001b[1mno template named 'smart_ptrr'; did you mean 'smart_ptr'?\u001b[0m\n",
      "smart_ptrr<shape> ptr2; \n",
      "\u001b[0;1;32m^~~~~~~~~~\n",
      "\u001b[0m\u001b[0;32msmart_ptr\n",
      "\u001b[0m\u001b[1minput_line_9:2:7: \u001b[0m\u001b[0;1;30mnote: \u001b[0m'smart_ptr' declared here\u001b[0m\n",
      "class smart_ptr {\n",
      "\u001b[0;1;32m      ^\n",
      "\u001b[0m\u001b[1minput_line_11:5:44: \u001b[0m\u001b[0;1;31merror: \u001b[0m\u001b[1mno member named 'use_count' in 'smart_ptr<shape>'\u001b[0m\n",
      "printf(\"use count of ptr2 was %ld\\n\", ptr2.use_count()); \n",
      "\u001b[0;1;32m                                      ~~~~ ^\n",
      "\u001b[0m\u001b[1minput_line_11:6:6: \u001b[0m\u001b[0;1;31merror: \u001b[0m\u001b[1mno viable overloaded '='\u001b[0m\n",
      "ptr2 = ptr1; \n",
      "\u001b[0;1;32m~~~~ ^ ~~~~\n",
      "\u001b[0m\u001b[1minput_line_9:2:7: \u001b[0m\u001b[0;1;30mnote: \u001b[0mcandidate function (the implicit copy assignment operator) not viable: no known conversion from 'smart_ptr<\u001b[0;1;36mcircle\u001b[0m>' to '\u001b[0;1;36mconst \u001b[0msmart_ptr<\u001b[0;1;36mshape\u001b[0m>' for 1st argument\u001b[0m\n",
      "class smart_ptr {\n",
      "\u001b[0;1;32m      ^\n",
      "\u001b[0m\u001b[1minput_line_11:7:47: \u001b[0m\u001b[0;1;31merror: \u001b[0m\u001b[1mno member named 'use_count' in 'smart_ptr<shape>'\u001b[0m\n",
      "printf(\"use count of ptr2 is now %ld\\n\", ptr2.use_count()); \n",
      "\u001b[0;1;32m                                         ~~~~ ^\n",
      "\u001b[0m"
     ]
    },
    {
     "ename": "Interpreter Error",
     "evalue": "",
     "output_type": "error",
     "traceback": [
      "Interpreter Error: "
     ]
    }
   ],
   "source": [
    "int main()\n",
    "{ smart_ptr<circle> ptr1(new circle()); \n",
    "printf(\"use count of ptr1 is %ld\\n\", ptr1.use_count()); \n",
    "smart_ptrr<shape> ptr2; \n",
    "printf(\"use count of ptr2 was %ld\\n\", ptr2.use_count()); \n",
    "ptr2 = ptr1; \n",
    "printf(\"use count of ptr2 is now %ld\\n\", ptr2.use_count()); \n",
    "if (ptr1) { puts(\"ptr1 is not empty\"); }\n",
    "}"
   ]
  },
  {
   "cell_type": "code",
   "execution_count": null,
   "metadata": {},
   "outputs": [],
   "source": []
  }
 ],
 "metadata": {
  "kernelspec": {
   "display_name": "C++17",
   "language": "C++17",
   "name": "xcpp17"
  },
  "language_info": {
   "codemirror_mode": "text/x-c++src",
   "file_extension": ".cpp",
   "mimetype": "text/x-c++src",
   "name": "c++",
   "version": "-std=c++17"
  }
 },
 "nbformat": 4,
 "nbformat_minor": 2
}
